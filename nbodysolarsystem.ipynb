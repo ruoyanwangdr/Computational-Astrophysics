{
 "cells": [
  {
   "cell_type": "code",
   "execution_count": 2,
   "metadata": {},
   "outputs": [
    {
     "name": "stderr",
     "output_type": "stream",
     "text": [
      "'c' argument looks like a single numeric RGB or RGBA sequence, which should be avoided as value-mapping will have precedence in case its length matches with 'x' & 'y'.  Please use a 2-D array with a single row if you really want to specify the same RGB or RGBA value for all points.\n",
      "'c' argument looks like a single numeric RGB or RGBA sequence, which should be avoided as value-mapping will have precedence in case its length matches with 'x' & 'y'.  Please use a 2-D array with a single row if you really want to specify the same RGB or RGBA value for all points.\n",
      "'c' argument looks like a single numeric RGB or RGBA sequence, which should be avoided as value-mapping will have precedence in case its length matches with 'x' & 'y'.  Please use a 2-D array with a single row if you really want to specify the same RGB or RGBA value for all points.\n",
      "'c' argument looks like a single numeric RGB or RGBA sequence, which should be avoided as value-mapping will have precedence in case its length matches with 'x' & 'y'.  Please use a 2-D array with a single row if you really want to specify the same RGB or RGBA value for all points.\n"
     ]
    },
    {
     "data": {
      "text/plain": [
       "<matplotlib.collections.PathCollection at 0x115717a90>"
      ]
     },
     "execution_count": 2,
     "metadata": {},
     "output_type": "execute_result"
    },
    {
     "data": {
      "image/png": "[encoded data removed]",
      "text/plain": [
       "<Figure size 432x288 with 1 Axes>"
      ]
     },
     "metadata": {
      "needs_background": "light"
     },
     "output_type": "display_data"
    }
   ],
   "source": [
    "import matplotlib.pyplot as plt\n",
    "import math\n",
    "\n",
    "npoints=25000 #iteration parameters\n",
    "dt = 0.001\n",
    "\n",
    "m = [2E30, 6E24, 2E27, 6E23] #masses of sun, earth, jupiter, and mars respectively\n",
    "x = [0, 1, 5.2, 1.67] #starting position on x-axis\n",
    "y = [0, 0, 0, 0] #start a 0 on y-axis\n",
    "vx = [0, 0, 0, 0] #start at 0 in x direction\n",
    "vy = [0, 6.2832, 2.7549, 5.09] #average orbital speed\n",
    "\n",
    "#placeholders for plot data\n",
    "sunx = [];\n",
    "suny = [];\n",
    "earthx = [];\n",
    "earthy = [];\n",
    "jupiterx = [];\n",
    "jupitery = [];\n",
    "marsx = [];\n",
    "marsy = [];\n",
    "\n",
    "#iterate over entire time period\n",
    "for i in range(0, npoints - 1):\n",
    "\n",
    "    #iterate over all pairs of objects\n",
    "    for j in range(0, len(m)):\n",
    "        for k in range(j, len(m)):\n",
    "\n",
    "            #for each pair, update velocities according to gravitational force\n",
    "            if(k != j):\n",
    "                dx = x[k] - x[j]\n",
    "                dy = y[k] - y[j]\n",
    "                D = dx*dx + dy*dy\n",
    "                Fx = -(39.4784/D)*(dx/math.sqrt(D))\n",
    "                Fy = -(39.4784/D)*(dy/math.sqrt(D))\n",
    "                \n",
    "                vx[k] = vx[k] + Fx*dt*m[j]/m[0]\n",
    "                vy[k] = vy[k] + Fy*dt*m[j]/m[0]\n",
    "                vx[j] = vx[j] - Fx*dt*m[k]/m[0]\n",
    "                vy[j] = vy[j] - Fy*dt*m[k]/m[0]\n",
    "\n",
    "    #update positions at the end\n",
    "    for j in range(0, len(m)):\n",
    "        x[j] = x[j] + vx[j]*dt\n",
    "        y[j] = y[j] + vy[j]*dt\n",
    "\n",
    "    sunx.append(x[0])\n",
    "    suny.append(y[0])\n",
    "    earthx.append(x[1])\n",
    "    earthy.append(y[1])\n",
    "    jupiterx.append(x[2])\n",
    "    jupitery.append(y[2])\n",
    "    marsx.append(x[3])\n",
    "    marsy.append(y[3])\n",
    "\n",
    "\n",
    "    #if math.fmod(i, 200) == 0:\n",
    "        #plt.scatter(x[1], y[1], 40, [.25, .25, .95])\n",
    "        #plt.scatter(x[0], y[0], 80, [.95, .7, .2])\n",
    "        #plt.scatter(x[2], y[2], 60, [.25, .9, .25])\n",
    "        #plt.xlim([-10, 10])\n",
    "        #plt.ylim([-10, 10])\n",
    "        #plt.draw()\n",
    "        #plt.pause(0.005)\n",
    "        #plt.clf()\n",
    "\n",
    "plt.scatter(sunx, suny, 80, [.95, .7, .2])\n",
    "plt.scatter(earthx, earthy, 40, [.25, .25, .95])\n",
    "plt.scatter(jupiterx, jupitery, 60, [.25, .9, .25])\n",
    "plt.scatter(marsx, marsy, 35, [.95, 0, 0])\n",
    "#plt.show()\n"
   ]
  },
  {
   "cell_type": "code",
   "execution_count": null,
   "metadata": {},
   "outputs": [],
   "source": []
  }
 ],
 "metadata": {
  "kernelspec": {
   "display_name": "Python 3",
   "language": "python",
   "name": "python3"
  },
  "language_info": {
   "codemirror_mode": {
    "name": "ipython",
    "version": 3
   },
   "file_extension": ".py",
   "mimetype": "text/x-python",
   "name": "python",
   "nbconvert_exporter": "python",
   "pygments_lexer": "ipython3",
   "version": "3.6.8"
  }
 },
 "nbformat": 4,
 "nbformat_minor": 2
}
